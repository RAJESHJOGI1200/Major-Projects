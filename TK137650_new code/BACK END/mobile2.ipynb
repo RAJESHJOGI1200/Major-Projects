{
 "cells": [
  {
   "cell_type": "code",
   "execution_count": 1,
   "metadata": {},
   "outputs": [
    {
     "name": "stderr",
     "output_type": "stream",
     "text": [
      "C:\\Users\\chinm\\AppData\\Local\\Temp\\ipykernel_29040\\2495895133.py:1: DeprecationWarning: \n",
      "Pyarrow will become a required dependency of pandas in the next major release of pandas (pandas 3.0),\n",
      "(to allow more performant data types, such as the Arrow string type, and better interoperability with other libraries)\n",
      "but was not found to be installed on your system.\n",
      "If this would cause problems for you,\n",
      "please provide us feedback at https://github.com/pandas-dev/pandas/issues/54466\n",
      "        \n",
      "  import pandas as pd\n"
     ]
    }
   ],
   "source": [
    "import pandas as pd\n",
    "from matplotlib import pyplot as plt\n",
    "import seaborn as sns\n",
    "from sklearn.preprocessing import LabelEncoder\n",
    "from imblearn.over_sampling import RandomOverSampler\n",
    "from sklearn.model_selection import train_test_split\n",
    "from sklearn.metrics import accuracy_score, precision_score, recall_score, f1_score, confusion_matrix\n",
    "import matplotlib.pyplot as plt\n",
    "import seaborn as sns"
   ]
  },
  {
   "cell_type": "code",
   "execution_count": 2,
   "metadata": {},
   "outputs": [],
   "source": [
    "# read The csv file\n",
    "df = pd.read_csv(\"20230329093832Mobile-Addiction-.csv\")"
   ]
  },
  {
   "cell_type": "code",
   "execution_count": 3,
   "metadata": {},
   "outputs": [
    {
     "data": {
      "text/html": [
       "<div>\n",
       "<style scoped>\n",
       "    .dataframe tbody tr th:only-of-type {\n",
       "        vertical-align: middle;\n",
       "    }\n",
       "\n",
       "    .dataframe tbody tr th {\n",
       "        vertical-align: top;\n",
       "    }\n",
       "\n",
       "    .dataframe thead th {\n",
       "        text-align: right;\n",
       "    }\n",
       "</style>\n",
       "<table border=\"1\" class=\"dataframe\">\n",
       "  <thead>\n",
       "    <tr style=\"text-align: right;\">\n",
       "      <th></th>\n",
       "      <th>Timestamp</th>\n",
       "      <th>Full Name :</th>\n",
       "      <th>Gender :</th>\n",
       "      <th>Do you use your phone to click pictures of class notes?</th>\n",
       "      <th>Do you buy books/access books from your mobile?</th>\n",
       "      <th>Does your phone's battery last a day?</th>\n",
       "      <th>When your phone's battery dies out, do you run for the charger?</th>\n",
       "      <th>Do you worry about losing your cell phone?</th>\n",
       "      <th>Do you take your phone to the bathroom?</th>\n",
       "      <th>Do you use your phone in any social gathering (parties)?</th>\n",
       "      <th>...</th>\n",
       "      <th>Do you check your phone just before going to sleep/just after waking up?</th>\n",
       "      <th>Do you keep your phone right next to you while sleeping?</th>\n",
       "      <th>Do you check emails, missed calls, texts during class time?</th>\n",
       "      <th>Do you find yourself relying on your phone when things get awkward?</th>\n",
       "      <th>Are you on your phone while watching TV or eating food?</th>\n",
       "      <th>Do you have a panic attack if you leave your phone elsewhere?</th>\n",
       "      <th>You don't mind responding to messages or checking your phone while on date?</th>\n",
       "      <th>For how long do you use your phone for playing games?</th>\n",
       "      <th>Can you live a day without phone ?</th>\n",
       "      <th>whether you are addicted to phone?</th>\n",
       "    </tr>\n",
       "  </thead>\n",
       "  <tbody>\n",
       "    <tr>\n",
       "      <th>0</th>\n",
       "      <td>2023/02/17 2:21:53 PM GMT+5:30</td>\n",
       "      <td>Dabbeta Ganesh Kumar</td>\n",
       "      <td>MALE</td>\n",
       "      <td>Yes</td>\n",
       "      <td>Yes</td>\n",
       "      <td>Yes</td>\n",
       "      <td>Yes;No</td>\n",
       "      <td>Yes</td>\n",
       "      <td>Yes</td>\n",
       "      <td>Yes</td>\n",
       "      <td>...</td>\n",
       "      <td>Yes</td>\n",
       "      <td>Yes</td>\n",
       "      <td>Yes</td>\n",
       "      <td>Yes</td>\n",
       "      <td>Yes</td>\n",
       "      <td>Yes</td>\n",
       "      <td>Yes</td>\n",
       "      <td>&lt;2 hours</td>\n",
       "      <td>NaN</td>\n",
       "      <td>NaN</td>\n",
       "    </tr>\n",
       "    <tr>\n",
       "      <th>1</th>\n",
       "      <td>2023/02/24 4:28:34 PM GMT+5:30</td>\n",
       "      <td>Mir Junaid Rasool</td>\n",
       "      <td>MALE</td>\n",
       "      <td>Yes</td>\n",
       "      <td>No</td>\n",
       "      <td>Yes</td>\n",
       "      <td>Yes</td>\n",
       "      <td>Yes</td>\n",
       "      <td>Yes</td>\n",
       "      <td>Yes</td>\n",
       "      <td>...</td>\n",
       "      <td>Yes</td>\n",
       "      <td>Yes</td>\n",
       "      <td>No</td>\n",
       "      <td>Yes</td>\n",
       "      <td>No</td>\n",
       "      <td>Yes</td>\n",
       "      <td>Yes</td>\n",
       "      <td>&lt;2 hours</td>\n",
       "      <td>No</td>\n",
       "      <td>Maybe</td>\n",
       "    </tr>\n",
       "    <tr>\n",
       "      <th>2</th>\n",
       "      <td>2023/02/24 4:34:02 PM GMT+5:30</td>\n",
       "      <td>Dev</td>\n",
       "      <td>MALE</td>\n",
       "      <td>Yes</td>\n",
       "      <td>No</td>\n",
       "      <td>No</td>\n",
       "      <td>Yes</td>\n",
       "      <td>Yes</td>\n",
       "      <td>Yes</td>\n",
       "      <td>Yes</td>\n",
       "      <td>...</td>\n",
       "      <td>Yes</td>\n",
       "      <td>Yes</td>\n",
       "      <td>No</td>\n",
       "      <td>Yes</td>\n",
       "      <td>Yes</td>\n",
       "      <td>Yes</td>\n",
       "      <td>Yes</td>\n",
       "      <td>&gt;2 hours</td>\n",
       "      <td>No</td>\n",
       "      <td>Yes</td>\n",
       "    </tr>\n",
       "    <tr>\n",
       "      <th>3</th>\n",
       "      <td>2023/02/27 3:32:22 PM GMT+5:30</td>\n",
       "      <td>A.RuthvikDev</td>\n",
       "      <td>MALE</td>\n",
       "      <td>Yes</td>\n",
       "      <td>No</td>\n",
       "      <td>Yes</td>\n",
       "      <td>Yes</td>\n",
       "      <td>Yes</td>\n",
       "      <td>No</td>\n",
       "      <td>Yes</td>\n",
       "      <td>...</td>\n",
       "      <td>Yes</td>\n",
       "      <td>Yes</td>\n",
       "      <td>Yes</td>\n",
       "      <td>Yes</td>\n",
       "      <td>No</td>\n",
       "      <td>Yes</td>\n",
       "      <td>No</td>\n",
       "      <td>&lt;2 hours</td>\n",
       "      <td>Yes</td>\n",
       "      <td>No</td>\n",
       "    </tr>\n",
       "    <tr>\n",
       "      <th>4</th>\n",
       "      <td>2023/02/27 3:33:44 PM GMT+5:30</td>\n",
       "      <td>Vishnu</td>\n",
       "      <td>MALE</td>\n",
       "      <td>Yes</td>\n",
       "      <td>Yes</td>\n",
       "      <td>Yes</td>\n",
       "      <td>Yes</td>\n",
       "      <td>Yes</td>\n",
       "      <td>No</td>\n",
       "      <td>Yes</td>\n",
       "      <td>...</td>\n",
       "      <td>Yes</td>\n",
       "      <td>NaN</td>\n",
       "      <td>No</td>\n",
       "      <td>No</td>\n",
       "      <td>No</td>\n",
       "      <td>No</td>\n",
       "      <td>No</td>\n",
       "      <td>&lt;2 hours</td>\n",
       "      <td>Yes</td>\n",
       "      <td>No</td>\n",
       "    </tr>\n",
       "  </tbody>\n",
       "</table>\n",
       "<p>5 rows × 21 columns</p>\n",
       "</div>"
      ],
      "text/plain": [
       "                        Timestamp           Full Name : Gender :  \\\n",
       "0  2023/02/17 2:21:53 PM GMT+5:30  Dabbeta Ganesh Kumar     MALE   \n",
       "1  2023/02/24 4:28:34 PM GMT+5:30     Mir Junaid Rasool     MALE   \n",
       "2  2023/02/24 4:34:02 PM GMT+5:30                   Dev     MALE   \n",
       "3  2023/02/27 3:32:22 PM GMT+5:30          A.RuthvikDev     MALE   \n",
       "4  2023/02/27 3:33:44 PM GMT+5:30               Vishnu      MALE   \n",
       "\n",
       "  Do you use your phone to click pictures of class notes?  \\\n",
       "0                                                Yes        \n",
       "1                                                Yes        \n",
       "2                                                Yes        \n",
       "3                                                Yes        \n",
       "4                                                Yes        \n",
       "\n",
       "  Do you buy books/access books from your mobile?  \\\n",
       "0                                             Yes   \n",
       "1                                              No   \n",
       "2                                              No   \n",
       "3                                              No   \n",
       "4                                             Yes   \n",
       "\n",
       "  Does your phone's battery last a day?  \\\n",
       "0                                   Yes   \n",
       "1                                   Yes   \n",
       "2                                    No   \n",
       "3                                   Yes   \n",
       "4                                   Yes   \n",
       "\n",
       "  When your phone's battery dies out, do you run for the charger?  \\\n",
       "0                                             Yes;No                \n",
       "1                                                Yes                \n",
       "2                                                Yes                \n",
       "3                                                Yes                \n",
       "4                                                Yes                \n",
       "\n",
       "  Do you worry about losing your cell phone?  \\\n",
       "0                                        Yes   \n",
       "1                                        Yes   \n",
       "2                                        Yes   \n",
       "3                                        Yes   \n",
       "4                                        Yes   \n",
       "\n",
       "  Do you take your phone to the bathroom?  \\\n",
       "0                                     Yes   \n",
       "1                                     Yes   \n",
       "2                                     Yes   \n",
       "3                                      No   \n",
       "4                                      No   \n",
       "\n",
       "  Do you use your phone in any social gathering (parties)?  ...  \\\n",
       "0                                                Yes        ...   \n",
       "1                                                Yes        ...   \n",
       "2                                                Yes        ...   \n",
       "3                                                Yes        ...   \n",
       "4                                                Yes        ...   \n",
       "\n",
       "  Do you check your phone just before going to sleep/just after waking up?  \\\n",
       "0                                                Yes                         \n",
       "1                                                Yes                         \n",
       "2                                                Yes                         \n",
       "3                                                Yes                         \n",
       "4                                                Yes                         \n",
       "\n",
       "  Do you keep your phone right next to you while sleeping?  \\\n",
       "0                                                Yes         \n",
       "1                                                Yes         \n",
       "2                                                Yes         \n",
       "3                                                Yes         \n",
       "4                                                NaN         \n",
       "\n",
       "  Do you check emails, missed calls, texts during class time?   \\\n",
       "0                                                Yes             \n",
       "1                                                 No             \n",
       "2                                                 No             \n",
       "3                                                Yes             \n",
       "4                                                 No             \n",
       "\n",
       "  Do you find yourself relying on your phone when things get awkward?  \\\n",
       "0                                                Yes                    \n",
       "1                                                Yes                    \n",
       "2                                                Yes                    \n",
       "3                                                Yes                    \n",
       "4                                                 No                    \n",
       "\n",
       "  Are you on your phone while watching TV or eating food?  \\\n",
       "0                                                Yes        \n",
       "1                                                 No        \n",
       "2                                                Yes        \n",
       "3                                                 No        \n",
       "4                                                 No        \n",
       "\n",
       "  Do you have a panic attack if you leave your phone elsewhere?  \\\n",
       "0                                                Yes              \n",
       "1                                                Yes              \n",
       "2                                                Yes              \n",
       "3                                                Yes              \n",
       "4                                                 No              \n",
       "\n",
       "  You don't mind responding to messages or checking your phone while on date?   \\\n",
       "0                                                Yes                             \n",
       "1                                                Yes                             \n",
       "2                                                Yes                             \n",
       "3                                                 No                             \n",
       "4                                                 No                             \n",
       "\n",
       "  For how long do you use your phone for playing games?  \\\n",
       "0                                           <2 hours      \n",
       "1                                           <2 hours      \n",
       "2                                           >2 hours      \n",
       "3                                           <2 hours      \n",
       "4                                           <2 hours      \n",
       "\n",
       "  Can you live a day without phone ?  whether you are addicted to phone?  \n",
       "0                                 NaN                                NaN  \n",
       "1                                  No                              Maybe  \n",
       "2                                  No                                Yes  \n",
       "3                                 Yes                                 No  \n",
       "4                                 Yes                                 No  \n",
       "\n",
       "[5 rows x 21 columns]"
      ]
     },
     "execution_count": 3,
     "metadata": {},
     "output_type": "execute_result"
    }
   ],
   "source": [
    "df.head()"
   ]
  },
  {
   "cell_type": "code",
   "execution_count": 4,
   "metadata": {},
   "outputs": [
    {
     "data": {
      "text/plain": [
       "whether you are addicted to phone?\n",
       "No       322\n",
       "Yes      176\n",
       "Maybe      1\n",
       "Name: count, dtype: int64"
      ]
     },
     "execution_count": 4,
     "metadata": {},
     "output_type": "execute_result"
    }
   ],
   "source": [
    "df['whether you are addicted to phone?'].value_counts()"
   ]
  },
  {
   "cell_type": "code",
   "execution_count": 5,
   "metadata": {},
   "outputs": [],
   "source": [
    "#preprocessing data.\n",
    "col = df[['Timestamp', 'Full Name :', 'Gender :',\n",
    "       'Do you use your phone to click pictures of class notes?',\n",
    "       'Do you buy books/access books from your mobile?',\n",
    "       \"Does your phone's battery last a day?\",\n",
    "       \"When your phone's battery dies out, do you run for the charger?\",\n",
    "       'Do you worry about losing your cell phone?',\n",
    "       'Do you take your phone to the bathroom?',\n",
    "       'Do you use your phone in any social gathering (parties)?',\n",
    "       'Do you often check your phone without any notification? ',\n",
    "       'Do you check your phone just before going to sleep/just after waking up?',\n",
    "       'Do you keep your phone right next to you while sleeping?',\n",
    "       'Do you check emails, missed calls, texts during class time? ',\n",
    "       'Do you find yourself relying on your phone when things get awkward?',\n",
    "       'Are you on your phone while watching TV or eating food?',\n",
    "       'Do you have a panic attack if you leave your phone elsewhere?',\n",
    "       \"You don't mind responding to messages or checking your phone while on date? \",\n",
    "       'For how long do you use your phone for playing games?',\n",
    "       'Can you live a day without phone ? ',\n",
    "       'whether you are addicted to phone?']]"
   ]
  },
  {
   "cell_type": "code",
   "execution_count": 6,
   "metadata": {},
   "outputs": [
    {
     "name": "stderr",
     "output_type": "stream",
     "text": [
      "C:\\Users\\chinm\\AppData\\Local\\Temp\\ipykernel_29040\\1060100489.py:2: FutureWarning: A value is trying to be set on a copy of a DataFrame or Series through chained assignment using an inplace method.\n",
      "The behavior will change in pandas 3.0. This inplace method will never work because the intermediate object on which we are setting values always behaves as a copy.\n",
      "\n",
      "For example, when doing 'df[col].method(value, inplace=True)', try using 'df.method({col: value}, inplace=True)' or df[col] = df[col].method(value) instead, to perform the operation inplace on the original object.\n",
      "\n",
      "\n",
      "  df[i].fillna(method='ffill',inplace=True)\n",
      "C:\\Users\\chinm\\AppData\\Local\\Temp\\ipykernel_29040\\1060100489.py:2: FutureWarning: Series.fillna with 'method' is deprecated and will raise in a future version. Use obj.ffill() or obj.bfill() instead.\n",
      "  df[i].fillna(method='ffill',inplace=True)\n"
     ]
    }
   ],
   "source": [
    "for i in col:\n",
    "    df[i].fillna(method='ffill',inplace=True)"
   ]
  },
  {
   "cell_type": "code",
   "execution_count": 7,
   "metadata": {},
   "outputs": [
    {
     "name": "stderr",
     "output_type": "stream",
     "text": [
      "C:\\Users\\chinm\\AppData\\Local\\Temp\\ipykernel_29040\\3450501767.py:1: FutureWarning: Series.fillna with 'method' is deprecated and will raise in a future version. Use obj.ffill() or obj.bfill() instead.\n",
      "  df['Can you live a day without phone ? '].fillna(method='bfill',inplace=True)\n",
      "C:\\Users\\chinm\\AppData\\Local\\Temp\\ipykernel_29040\\3450501767.py:2: FutureWarning: Series.fillna with 'method' is deprecated and will raise in a future version. Use obj.ffill() or obj.bfill() instead.\n",
      "  df['whether you are addicted to phone?'].fillna(method='bfill',inplace=True)\n"
     ]
    }
   ],
   "source": [
    "df['Can you live a day without phone ? '].fillna(method='bfill',inplace=True)\n",
    "df['whether you are addicted to phone?'].fillna(method='bfill',inplace=True)"
   ]
  },
  {
   "cell_type": "code",
   "execution_count": 8,
   "metadata": {},
   "outputs": [],
   "source": [
    "le = LabelEncoder()"
   ]
  },
  {
   "cell_type": "code",
   "execution_count": 9,
   "metadata": {},
   "outputs": [],
   "source": [
    "for i in col:\n",
    "    df[i]=le.fit_transform(df[i])"
   ]
  },
  {
   "cell_type": "code",
   "execution_count": 10,
   "metadata": {},
   "outputs": [],
   "source": [
    "# Delete The unknown column\n",
    "df.drop('Timestamp', axis = 1,inplace = True)\n",
    "df.drop('Full Name :',  axis = 1,inplace = True)"
   ]
  },
  {
   "cell_type": "code",
   "execution_count": 11,
   "metadata": {},
   "outputs": [],
   "source": [
    "x = df.drop(['whether you are addicted to phone?'], axis = 1) \n",
    "y = df['whether you are addicted to phone?']"
   ]
  },
  {
   "cell_type": "code",
   "execution_count": 12,
   "metadata": {},
   "outputs": [],
   "source": [
    "Oversample = RandomOverSampler(random_state=72)\n",
    "x_sm, y_sm = Oversample.fit_resample(x[:100],y[:100])"
   ]
  },
  {
   "cell_type": "code",
   "execution_count": 13,
   "metadata": {},
   "outputs": [],
   "source": [
    "x_train, x_test, y_train, y_test = train_test_split(x_sm, y_sm, test_size = 0.3, random_state= 72)"
   ]
  },
  {
   "cell_type": "code",
   "execution_count": 14,
   "metadata": {},
   "outputs": [],
   "source": [
    "from sklearn.ensemble import RandomForestClassifier\n",
    "re = RandomForestClassifier(random_state=72)\n",
    "re.fit(x_train,y_train)\n",
    "re_pred = re.predict(x_test)\n",
    "ac = accuracy_score(y_test,re_pred)"
   ]
  },
  {
   "cell_type": "code",
   "execution_count": null,
   "metadata": {},
   "outputs": [],
   "source": []
  },
  {
   "cell_type": "code",
   "execution_count": 20,
   "metadata": {},
   "outputs": [
    {
     "name": "stdout",
     "output_type": "stream",
     "text": [
      "Precision: 0.8997588132289293\n",
      "Recall: 0.8983050847457628\n",
      "F1 Score: 0.8977183833116035\n"
     ]
    },
    {
     "data": {
      "image/png": "[encoded data removed]",
      "text/plain": [
       "<Figure size 800x600 with 2 Axes>"
      ]
     },
     "metadata": {},
     "output_type": "display_data"
    }
   ],
   "source": [
    "\n",
    "# Calculate precision\n",
    "precision = precision_score(y_test, re_pred, average='weighted')\n",
    "print(\"Precision:\", precision)\n",
    "\n",
    "# Calculate recall\n",
    "recall = recall_score(y_test, re_pred, average='weighted')\n",
    "print(\"Recall:\", recall)\n",
    "\n",
    "# Calculate F1 score\n",
    "f1 = f1_score(y_test, re_pred, average='weighted')\n",
    "print(\"F1 Score:\", f1)\n",
    "\n",
    "# Draw confusion matrix\n",
    "cm = confusion_matrix(y_test, re_pred)\n",
    "plt.figure(figsize=(8, 6))\n",
    "sns.heatmap(cm, annot=True, cmap='Blues', fmt='g')\n",
    "plt.xlabel('Predicted Label for Random Forest Classifier')\n",
    "plt.ylabel('True Label')\n",
    "plt.title('Confusion Matrix')\n",
    "plt.show()"
   ]
  },
  {
   "cell_type": "code",
   "execution_count": 16,
   "metadata": {},
   "outputs": [],
   "source": [
    "from sklearn.tree import DecisionTreeClassifier\n",
    "de = DecisionTreeClassifier()\n",
    "de.fit(x_train,y_train)\n",
    "de_pred = de.predict(x_test)\n",
    "ac1 = accuracy_score(y_test,de_pred)"
   ]
  },
  {
   "cell_type": "code",
   "execution_count": 17,
   "metadata": {},
   "outputs": [
    {
     "name": "stdout",
     "output_type": "stream",
     "text": [
      "Precision: 0.8464711685050669\n",
      "Recall: 0.847457627118644\n",
      "F1 Score: 0.8445120479018784\n"
     ]
    },
    {
     "data": {
      "image/png": "[encoded data removed]",
      "text/plain": [
       "<Figure size 800x600 with 2 Axes>"
      ]
     },
     "metadata": {},
     "output_type": "display_data"
    }
   ],
   "source": [
    "precision = precision_score(y_test, de_pred, average='weighted')\n",
    "print(\"Precision:\", precision)\n",
    "\n",
    "# Calculate recall\n",
    "recall = recall_score(y_test, de_pred, average='weighted')\n",
    "print(\"Recall:\", recall)\n",
    "\n",
    "# Calculate F1 score\n",
    "f1 = f1_score(y_test, de_pred, average='weighted')\n",
    "print(\"F1 Score:\", f1)\n",
    "\n",
    "# Draw confusion matrix\n",
    "cm = confusion_matrix(y_test, de_pred)\n",
    "plt.figure(figsize=(8, 6))\n",
    "sns.heatmap(cm, annot=True, cmap='Blues', fmt='g')\n",
    "plt.xlabel('Predicted Label for Decision Tree Classifier')\n",
    "plt.ylabel('True Label')\n",
    "plt.title('Confusion Matrix')\n",
    "plt.show()"
   ]
  },
  {
   "cell_type": "code",
   "execution_count": 18,
   "metadata": {},
   "outputs": [],
   "source": [
    "from sklearn.linear_model import LogisticRegression\n",
    "le = LogisticRegression()\n",
    "le.fit(x_train,y_train)\n",
    "le_pred = le.predict(x_test)\n",
    "ac2 = accuracy_score(y_test,le_pred)"
   ]
  },
  {
   "cell_type": "code",
   "execution_count": 21,
   "metadata": {},
   "outputs": [
    {
     "name": "stdout",
     "output_type": "stream",
     "text": [
      "Precision: 0.7995578481945468\n",
      "Recall: 0.7966101694915254\n",
      "F1 Score: 0.7969953775038521\n"
     ]
    },
    {
     "data": {
      "image/png": "[encoded data removed]",
      "text/plain": [
       "<Figure size 800x600 with 2 Axes>"
      ]
     },
     "metadata": {},
     "output_type": "display_data"
    }
   ],
   "source": [
    "precision = precision_score(y_test, le_pred, average='weighted')\n",
    "print(\"Precision:\", precision)\n",
    "\n",
    "# Calculate recall\n",
    "recall = recall_score(y_test, le_pred, average='weighted')\n",
    "print(\"Recall:\", recall)\n",
    "\n",
    "# Calculate F1 score\n",
    "f1 = f1_score(y_test, le_pred, average='weighted')\n",
    "print(\"F1 Score:\", f1)\n",
    "\n",
    "# Draw confusion matrix\n",
    "cm = confusion_matrix(y_test, le_pred)\n",
    "plt.figure(figsize=(8, 6))\n",
    "sns.heatmap(cm, annot=True, cmap='Blues', fmt='g')\n",
    "plt.xlabel('Predicted Label for Logistic Regression')\n",
    "plt.ylabel('True Label')\n",
    "plt.title('Confusion Matrix')\n",
    "plt.show()"
   ]
  },
  {
   "cell_type": "code",
   "execution_count": null,
   "metadata": {},
   "outputs": [],
   "source": []
  }
 ],
 "metadata": {
  "kernelspec": {
   "display_name": "Python 3",
   "language": "python",
   "name": "python3"
  },
  "language_info": {
   "codemirror_mode": {
    "name": "ipython",
    "version": 3
   },
   "file_extension": ".py",
   "mimetype": "text/x-python",
   "name": "python",
   "nbconvert_exporter": "python",
   "pygments_lexer": "ipython3",
   "version": "3.10.8"
  }
 },
 "nbformat": 4,
 "nbformat_minor": 2
}
